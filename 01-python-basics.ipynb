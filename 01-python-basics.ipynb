{
 "cells": [
  {
   "cell_type": "markdown",
   "metadata": {
    "collapsed": true
   },
   "source": [
    "## Lesson 1: Jupyter Intro, Basic Data Types, Variables, and Functions\n",
    "author = [mguan]"
   ]
  },
  {
   "cell_type": "markdown",
   "metadata": {},
   "source": [
    "This is the first lesson in the Python 101 series. By the end of this series, you should give you a solid foundational grasp of Python, which should allow you to build simple tools, and set you up to learn more advanced topics on your own."
   ]
  },
  {
   "cell_type": "markdown",
   "metadata": {},
   "source": [
    "### Intro to Jupyter"
   ]
  },
  {
   "cell_type": "markdown",
   "metadata": {},
   "source": [
    "All lessons will be avaialble on Jupyter Notebook. Jupyter Notebook is an open source tool developed by Project Jupyter that allows users to run interactive \"notebooks\" in a variety of languages (including Python). Jupyter is a great tool that allows for easy sharing / collaboration, and has quickly become the de-facto standard in the Data Science field.\n",
    "\n",
    "This particular set of notebooks is powered by  <a href=\"https://mybinder.org/\" target=\"_blank\">Binder</a>, an awesome beta product from Project Jupyter that builds a docker image of your github repo and hosts it on it`s own JupyterHub server."
   ]
  },
  {
   "cell_type": "markdown",
   "metadata": {},
   "source": [
    "__Useful Jupyter Shortcuts__  \n",
    "\n",
    "There are a lot of useful Jupyter shortcuts that you can (and should) use to make your life easier. Here are a few that I regularly use. You can press `esc h` to get a full list of shortcuts\n",
    "\n",
    "In a cell (press enter)\n",
    "* `ctrl shift -` : split cell\n",
    "* `ctrl click` : add additional cursor\n",
    "* `ctrl s` : save and checkpoint\n",
    "\n",
    "\n",
    "Outside of a cell (press escape)\n",
    "* `a` : insert cell __a__bove\n",
    "* `b` : insert cell __b__elow\n",
    "* `m` : convert cell to __m__ardown\n",
    "* `x` : cut cell\n",
    "* `v` : paste cell\n",
    "* `int (1-6)` : convert to markdown + create a header (1 makes the largest header) \n",
    "* `ctrl shift ↑` : select multiple cells\n",
    "* `shift m` : merge multiple cells"
   ]
  },
  {
   "cell_type": "markdown",
   "metadata": {},
   "source": [
    "__Shell Commands Inline__  \n",
    "Jupyter Notebook supports shell commands inline using `!`. You can also parse variables into your command using `$`  "
   ]
  },
  {
   "cell_type": "code",
   "execution_count": 1,
   "metadata": {
    "ExecuteTime": {
     "end_time": "2019-05-19T16:23:09.104686Z",
     "start_time": "2019-05-19T16:23:09.101034Z"
    }
   },
   "outputs": [],
   "source": [
    "import os\n",
    "wdir = os.getcwd()"
   ]
  },
  {
   "cell_type": "markdown",
   "metadata": {},
   "source": [
    "Windows:\n",
    "```\n",
    "!find /i \"\" $wdir\\*.ipynb\n",
    "```\n",
    "\n",
    "Unix:  \n",
    "```\n",
    "!grep -l  \"\" $wdir/*.ipynb\n",
    "```"
   ]
  },
  {
   "cell_type": "code",
   "execution_count": 1,
   "metadata": {
    "ExecuteTime": {
     "end_time": "2021-07-21T14:12:50.237916Z",
     "start_time": "2021-07-21T14:12:50.234776Z"
    }
   },
   "outputs": [],
   "source": [
    "# !grep -l  \"\" $wdir/*.ipynb"
   ]
  },
  {
   "cell_type": "markdown",
   "metadata": {},
   "source": [
    "### Common Data Types"
   ]
  },
  {
   "cell_type": "markdown",
   "metadata": {},
   "source": [
    "__Boolean__  \n",
    "True or False"
   ]
  },
  {
   "cell_type": "code",
   "execution_count": 3,
   "metadata": {
    "ExecuteTime": {
     "end_time": "2019-05-19T16:24:06.908888Z",
     "start_time": "2019-05-19T16:24:06.895219Z"
    }
   },
   "outputs": [
    {
     "data": {
      "text/plain": [
       "bool"
      ]
     },
     "execution_count": 3,
     "metadata": {},
     "output_type": "execute_result"
    }
   ],
   "source": [
    "type(True)"
   ]
  },
  {
   "cell_type": "code",
   "execution_count": 4,
   "metadata": {
    "ExecuteTime": {
     "end_time": "2019-05-19T16:24:11.678371Z",
     "start_time": "2019-05-19T16:24:11.675439Z"
    }
   },
   "outputs": [],
   "source": [
    "var = True"
   ]
  },
  {
   "cell_type": "code",
   "execution_count": 5,
   "metadata": {
    "ExecuteTime": {
     "end_time": "2019-05-19T16:24:18.171641Z",
     "start_time": "2019-05-19T16:24:18.167008Z"
    }
   },
   "outputs": [
    {
     "data": {
      "text/plain": [
       "True"
      ]
     },
     "execution_count": 5,
     "metadata": {},
     "output_type": "execute_result"
    }
   ],
   "source": [
    "var"
   ]
  },
  {
   "cell_type": "code",
   "execution_count": 6,
   "metadata": {
    "ExecuteTime": {
     "end_time": "2019-05-19T16:24:21.444125Z",
     "start_time": "2019-05-19T16:24:21.439810Z"
    }
   },
   "outputs": [
    {
     "data": {
      "text/plain": [
       "bool"
      ]
     },
     "execution_count": 6,
     "metadata": {},
     "output_type": "execute_result"
    }
   ],
   "source": [
    "type(var)"
   ]
  },
  {
   "cell_type": "markdown",
   "metadata": {},
   "source": [
    "__Integer__  \n",
    "Number with no decimal"
   ]
  },
  {
   "cell_type": "code",
   "execution_count": 7,
   "metadata": {
    "ExecuteTime": {
     "end_time": "2019-05-19T16:24:27.654225Z",
     "start_time": "2019-05-19T16:24:27.649815Z"
    }
   },
   "outputs": [
    {
     "data": {
      "text/plain": [
       "int"
      ]
     },
     "execution_count": 7,
     "metadata": {},
     "output_type": "execute_result"
    }
   ],
   "source": [
    "type(1)"
   ]
  },
  {
   "cell_type": "markdown",
   "metadata": {},
   "source": [
    "__Float__  \n",
    "Number with decimal"
   ]
  },
  {
   "cell_type": "code",
   "execution_count": 8,
   "metadata": {
    "ExecuteTime": {
     "end_time": "2019-05-19T16:24:37.939245Z",
     "start_time": "2019-05-19T16:24:37.934711Z"
    }
   },
   "outputs": [
    {
     "data": {
      "text/plain": [
       "float"
      ]
     },
     "execution_count": 8,
     "metadata": {},
     "output_type": "execute_result"
    }
   ],
   "source": [
    "type(1.0)"
   ]
  },
  {
   "cell_type": "markdown",
   "metadata": {},
   "source": [
    "__String__  \n",
    "Text"
   ]
  },
  {
   "cell_type": "code",
   "execution_count": 9,
   "metadata": {
    "ExecuteTime": {
     "end_time": "2019-05-19T16:24:41.682365Z",
     "start_time": "2019-05-19T16:24:41.677575Z"
    }
   },
   "outputs": [
    {
     "data": {
      "text/plain": [
       "str"
      ]
     },
     "execution_count": 9,
     "metadata": {},
     "output_type": "execute_result"
    }
   ],
   "source": [
    "type('Type')"
   ]
  },
  {
   "cell_type": "markdown",
   "metadata": {},
   "source": [
    "### Variables\n",
    "A variable is something in your namespace with an object attached to it. In this simple example, we are assigning the variable `var` equal to the `string` \"hi\". So now, whenever we call var (the variable), it will return \"Hi\" (the object)"
   ]
  },
  {
   "cell_type": "code",
   "execution_count": 12,
   "metadata": {
    "ExecuteTime": {
     "end_time": "2019-05-19T16:25:46.798456Z",
     "start_time": "2019-05-19T16:25:46.795216Z"
    }
   },
   "outputs": [],
   "source": [
    "var = 'hi.matt'"
   ]
  },
  {
   "cell_type": "code",
   "execution_count": 13,
   "metadata": {
    "ExecuteTime": {
     "end_time": "2019-05-19T16:25:48.984329Z",
     "start_time": "2019-05-19T16:25:48.979877Z"
    }
   },
   "outputs": [
    {
     "data": {
      "text/plain": [
       "str"
      ]
     },
     "execution_count": 13,
     "metadata": {},
     "output_type": "execute_result"
    }
   ],
   "source": [
    "type(var)"
   ]
  },
  {
   "cell_type": "markdown",
   "metadata": {},
   "source": [
    "Now is a good time to note that __everything in python is an object__. Any python variable will have specific attributes attached to it that can be called. \n",
    "* You can inspect an variable's attributes by typing out `{{variable name}}.` and then pressing `tab`.  \n",
    "* You can inspect an individual attribute by typing out `{{variable name}}.{{attribute name}}` and then pressing `shift tab tab`\n",
    "\n",
    "Try it out with `var.split`"
   ]
  },
  {
   "cell_type": "code",
   "execution_count": 14,
   "metadata": {
    "ExecuteTime": {
     "end_time": "2019-05-19T16:25:52.114818Z",
     "start_time": "2019-05-19T16:25:52.110228Z"
    },
    "scrolled": true
   },
   "outputs": [
    {
     "data": {
      "text/plain": [
       "['hi', 'matt']"
      ]
     },
     "execution_count": 14,
     "metadata": {},
     "output_type": "execute_result"
    }
   ],
   "source": [
    "var.split(\".\")"
   ]
  },
  {
   "cell_type": "code",
   "execution_count": 15,
   "metadata": {
    "ExecuteTime": {
     "end_time": "2019-05-19T16:26:04.350016Z",
     "start_time": "2019-05-19T16:26:04.342685Z"
    }
   },
   "outputs": [
    {
     "name": "stdout",
     "output_type": "stream",
     "text": [
      "hi.matt\n"
     ]
    }
   ],
   "source": [
    "print(var)"
   ]
  },
  {
   "cell_type": "markdown",
   "metadata": {},
   "source": [
    "### Functions\n",
    "In simplest terms, a function is set of predefined procedures that allow for code to be re-used instead of writing the same thing over and over again. A function will always take an `input` (or several inputs or no input), run some pre-defined code, and `return` an output.  \n",
    "\n",
    "A function will always look something like this."
   ]
  },
  {
   "cell_type": "code",
   "execution_count": 16,
   "metadata": {
    "ExecuteTime": {
     "end_time": "2019-05-19T16:28:14.974622Z",
     "start_time": "2019-05-19T16:28:14.969646Z"
    }
   },
   "outputs": [],
   "source": [
    "def complex_maths(i):\n",
    "    '''Does complex math on an integer or float\n",
    "    \n",
    "    Inputs\n",
    "    ------\n",
    "    input: int, float\n",
    "        Your favorite integer or float\n",
    "    '''\n",
    "    if type(i) not in [int, float]:\n",
    "        raise ValueError('Can only do math to be an int or float')\n",
    "    mathed = i+1\n",
    "    return mathed"
   ]
  },
  {
   "cell_type": "code",
   "execution_count": 42,
   "metadata": {
    "ExecuteTime": {
     "end_time": "2019-05-19T16:35:23.456684Z",
     "start_time": "2019-05-19T16:35:23.452571Z"
    }
   },
   "outputs": [],
   "source": [
    "def complex_maths(i):\n",
    "    '''Does complex math on an integer or float\n",
    "    \n",
    "    Inputs\n",
    "    ------\n",
    "    input: int, float\n",
    "        Your favorite integer or float\n",
    "    '''\n",
    "    try:\n",
    "        mathed = i+1\n",
    "    except Exception as e:\n",
    "        print(\"bad\")\n",
    "        return i"
   ]
  },
  {
   "cell_type": "code",
   "execution_count": 43,
   "metadata": {
    "ExecuteTime": {
     "end_time": "2019-05-19T16:35:34.333170Z",
     "start_time": "2019-05-19T16:35:34.328211Z"
    }
   },
   "outputs": [
    {
     "name": "stdout",
     "output_type": "stream",
     "text": [
      "bad\n"
     ]
    },
    {
     "data": {
      "text/plain": [
       "'1'"
      ]
     },
     "execution_count": 43,
     "metadata": {},
     "output_type": "execute_result"
    }
   ],
   "source": [
    "complex_maths(\"1\")"
   ]
  },
  {
   "cell_type": "markdown",
   "metadata": {},
   "source": [
    "1. First, I am defining the function as `complex_maths` with `input` being the only input\n",
    "2. Then I want to add some docstrings to tell other people (or remind myself) what the function does (`'''` is just used to define a multi line string).\n",
    "3. Next I'm adding exception at the beginning to add a check that the correct input is being entered into the function (more on this much later)\n",
    "4. Afterwards I type in the actual code that the function will perform. In this case I am just adding 1 to the input.\n",
    "5. Lastly, I return what I want to return\n",
    "\n",
    "After I press `shift enter` I will now be able to call the `complex_maths` and perform the actions defined within the function. Let's see what it does."
   ]
  },
  {
   "cell_type": "code",
   "execution_count": 17,
   "metadata": {
    "ExecuteTime": {
     "end_time": "2019-05-19T16:28:18.810953Z",
     "start_time": "2019-05-19T16:28:18.806790Z"
    }
   },
   "outputs": [
    {
     "name": "stdout",
     "output_type": "stream",
     "text": [
      "Help on function complex_maths in module __main__:\n",
      "\n",
      "complex_maths(i)\n",
      "    Does complex math on an integer or float\n",
      "    \n",
      "    Inputs\n",
      "    ------\n",
      "    input: int, float\n",
      "        Your favorite integer or float\n",
      "\n"
     ]
    }
   ],
   "source": [
    "help(complex_maths)"
   ]
  },
  {
   "cell_type": "code",
   "execution_count": 19,
   "metadata": {
    "ExecuteTime": {
     "end_time": "2019-05-19T16:28:35.353075Z",
     "start_time": "2019-05-19T16:28:35.341770Z"
    },
    "scrolled": true
   },
   "outputs": [
    {
     "ename": "ValueError",
     "evalue": "Can only do math to be an int or float",
     "output_type": "error",
     "traceback": [
      "\u001b[0;31m---------------------------------------------------------------------------\u001b[0m",
      "\u001b[0;31mValueError\u001b[0m                                Traceback (most recent call last)",
      "\u001b[0;32m<ipython-input-19-3872ee73f618>\u001b[0m in \u001b[0;36m<module>\u001b[0;34m\u001b[0m\n\u001b[0;32m----> 1\u001b[0;31m \u001b[0mcomplex_maths\u001b[0m\u001b[0;34m(\u001b[0m\u001b[0mi\u001b[0m\u001b[0;34m=\u001b[0m\u001b[0;34m\"1\"\u001b[0m\u001b[0;34m)\u001b[0m\u001b[0;34m\u001b[0m\u001b[0;34m\u001b[0m\u001b[0m\n\u001b[0m",
      "\u001b[0;32m<ipython-input-16-d188f24e49b3>\u001b[0m in \u001b[0;36mcomplex_maths\u001b[0;34m(i)\u001b[0m\n\u001b[1;32m      8\u001b[0m     '''\n\u001b[1;32m      9\u001b[0m     \u001b[0;32mif\u001b[0m \u001b[0mtype\u001b[0m\u001b[0;34m(\u001b[0m\u001b[0mi\u001b[0m\u001b[0;34m)\u001b[0m \u001b[0;32mnot\u001b[0m \u001b[0;32min\u001b[0m \u001b[0;34m[\u001b[0m\u001b[0mint\u001b[0m\u001b[0;34m,\u001b[0m \u001b[0mfloat\u001b[0m\u001b[0;34m]\u001b[0m\u001b[0;34m:\u001b[0m\u001b[0;34m\u001b[0m\u001b[0;34m\u001b[0m\u001b[0m\n\u001b[0;32m---> 10\u001b[0;31m         \u001b[0;32mraise\u001b[0m \u001b[0mValueError\u001b[0m\u001b[0;34m(\u001b[0m\u001b[0;34m'Can only do math to be an int or float'\u001b[0m\u001b[0;34m)\u001b[0m\u001b[0;34m\u001b[0m\u001b[0;34m\u001b[0m\u001b[0m\n\u001b[0m\u001b[1;32m     11\u001b[0m     \u001b[0mmathed\u001b[0m \u001b[0;34m=\u001b[0m \u001b[0mi\u001b[0m\u001b[0;34m+\u001b[0m\u001b[0;36m1\u001b[0m\u001b[0;34m\u001b[0m\u001b[0;34m\u001b[0m\u001b[0m\n\u001b[1;32m     12\u001b[0m     \u001b[0;32mreturn\u001b[0m \u001b[0mmathed\u001b[0m\u001b[0;34m\u001b[0m\u001b[0;34m\u001b[0m\u001b[0m\n",
      "\u001b[0;31mValueError\u001b[0m: Can only do math to be an int or float"
     ]
    }
   ],
   "source": [
    "complex_maths(i=\"1\")"
   ]
  },
  {
   "cell_type": "code",
   "execution_count": 20,
   "metadata": {
    "ExecuteTime": {
     "end_time": "2019-05-19T16:28:51.331365Z",
     "start_time": "2019-05-19T16:28:51.326827Z"
    }
   },
   "outputs": [
    {
     "data": {
      "text/plain": [
       "2"
      ]
     },
     "execution_count": 20,
     "metadata": {},
     "output_type": "execute_result"
    }
   ],
   "source": [
    "complex_maths(1)"
   ]
  },
  {
   "cell_type": "markdown",
   "metadata": {},
   "source": [
    "### Exercise 1\n",
    "With this knowledge, we should be able to do this simple Python exercise.\n",
    "\n",
    "Build a function where you enter your Birthday, and it returns the year you'll turn 100 along with some text explaining what the output is.\n",
    "\n",
    "__Optional:__ Add a notification that you are old if the age given the birth year is above a certain year\n",
    "\n",
    "__Hints__:  \n",
    "* You can parse variables into strings using curly braces within a string using the following snytax `'matt says {var}'.format(var)` (Python 2 or 3), or `f'matt says {var}'` (Python 3 only). Try it out\n",
    "* `datetime.date.today()` returns a datetime object of the current day. From there you can extract the individual date elements (day, month, year, etc.)"
   ]
  },
  {
   "cell_type": "code",
   "execution_count": null,
   "metadata": {},
   "outputs": [],
   "source": [
    "import datetime\n",
    "\n",
    "def years_to_hundred(birth_year, old_threshold=None):\n",
    "    \"\"\"Enter your birth year to find out what year you turn 100\n",
    "    \n",
    "    Inputs\n",
    "    -------\n",
    "    birth year: int\n",
    "        The year you were born\n",
    "    old_threshold: int, optional\n",
    "        If you are older than this year,\n",
    "        you will be notified that you are old\n",
    "    \"\"\"\n",
    "\n",
    "    return"
   ]
  },
  {
   "cell_type": "markdown",
   "metadata": {},
   "source": [
    "### Common Data Structures \n",
    "\n",
    "Now that we know what a variable is, we can go over the basic python data structures - lists, tuples, and dictionaries. These objects organize python objects in various ways and all have unique uses."
   ]
  },
  {
   "cell_type": "markdown",
   "metadata": {},
   "source": [
    "#### Lists\n",
    "A list is a __mutable__, __ordered__ collection of __objects__\n",
    "\n",
    "A list is denoted by wrapping text in `[ ]`. Each item in a list is seperated by a `,`"
   ]
  },
  {
   "cell_type": "code",
   "execution_count": 21,
   "metadata": {
    "ExecuteTime": {
     "end_time": "2019-05-19T16:30:05.535422Z",
     "start_time": "2019-05-19T16:30:05.531698Z"
    }
   },
   "outputs": [
    {
     "name": "stdout",
     "output_type": "stream",
     "text": [
      "[1, 2, 3, 4, 5]\n"
     ]
    }
   ],
   "source": [
    "lst = [1, 2, 3, 4, 5]\n",
    "print(lst)"
   ]
  },
  {
   "cell_type": "markdown",
   "metadata": {},
   "source": [
    "Generally a list is used as an easy way to store simple, flat data. Note that lists are mutable, so they can also be iterated over and modified by several steps of a complex proccess.\n",
    "\n",
    "Lists are ordered with the first element being assigned to the index value 0. You can call a particular element of a list with the below syntax"
   ]
  },
  {
   "cell_type": "code",
   "execution_count": 25,
   "metadata": {
    "ExecuteTime": {
     "end_time": "2019-05-19T16:30:36.577782Z",
     "start_time": "2019-05-19T16:30:36.573455Z"
    }
   },
   "outputs": [
    {
     "data": {
      "text/plain": [
       "5"
      ]
     },
     "execution_count": 25,
     "metadata": {},
     "output_type": "execute_result"
    }
   ],
   "source": [
    "lst[4]"
   ]
  },
  {
   "cell_type": "code",
   "execution_count": 28,
   "metadata": {
    "ExecuteTime": {
     "end_time": "2019-05-19T16:30:48.904244Z",
     "start_time": "2019-05-19T16:30:48.899960Z"
    }
   },
   "outputs": [
    {
     "data": {
      "text/plain": [
       "5"
      ]
     },
     "execution_count": 28,
     "metadata": {},
     "output_type": "execute_result"
    }
   ],
   "source": [
    "lst[-1]"
   ]
  },
  {
   "cell_type": "code",
   "execution_count": 30,
   "metadata": {
    "ExecuteTime": {
     "end_time": "2019-05-19T16:31:02.647967Z",
     "start_time": "2019-05-19T16:31:02.643418Z"
    }
   },
   "outputs": [
    {
     "data": {
      "text/plain": [
       "[1, 2]"
      ]
     },
     "execution_count": 30,
     "metadata": {},
     "output_type": "execute_result"
    }
   ],
   "source": [
    "lst[0:2]"
   ]
  },
  {
   "cell_type": "code",
   "execution_count": 31,
   "metadata": {
    "ExecuteTime": {
     "end_time": "2019-05-19T16:31:15.821016Z",
     "start_time": "2019-05-19T16:31:15.816259Z"
    }
   },
   "outputs": [
    {
     "data": {
      "text/plain": [
       "[5, 2, 3, 4, 5]"
      ]
     },
     "execution_count": 31,
     "metadata": {},
     "output_type": "execute_result"
    }
   ],
   "source": [
    "lst[0] = 5\n",
    "lst"
   ]
  },
  {
   "cell_type": "code",
   "execution_count": 33,
   "metadata": {
    "ExecuteTime": {
     "end_time": "2019-05-19T16:32:20.697299Z",
     "start_time": "2019-05-19T16:32:20.692476Z"
    }
   },
   "outputs": [
    {
     "data": {
      "text/plain": [
       "[2, 3, 4]"
      ]
     },
     "execution_count": 33,
     "metadata": {},
     "output_type": "execute_result"
    }
   ],
   "source": [
    "[i for i in lst if i != 5]"
   ]
  },
  {
   "cell_type": "code",
   "execution_count": 36,
   "metadata": {
    "ExecuteTime": {
     "end_time": "2019-05-19T16:32:51.030526Z",
     "start_time": "2019-05-19T16:32:51.026050Z"
    }
   },
   "outputs": [
    {
     "data": {
      "text/plain": [
       "[2, 3, 4]"
      ]
     },
     "execution_count": 36,
     "metadata": {},
     "output_type": "execute_result"
    }
   ],
   "source": [
    "lst[1:4]"
   ]
  },
  {
   "cell_type": "markdown",
   "metadata": {},
   "source": [
    "#### Tuples\n",
    "A tuple is an __immutable__, __ordered__ collection of __objects__"
   ]
  },
  {
   "cell_type": "code",
   "execution_count": 37,
   "metadata": {
    "ExecuteTime": {
     "end_time": "2019-05-19T16:33:04.916353Z",
     "start_time": "2019-05-19T16:33:04.911578Z"
    }
   },
   "outputs": [
    {
     "data": {
      "text/plain": [
       "2"
      ]
     },
     "execution_count": 37,
     "metadata": {},
     "output_type": "execute_result"
    }
   ],
   "source": [
    "tup = (1, 2)\n",
    "\n",
    "tup[1]"
   ]
  },
  {
   "cell_type": "code",
   "execution_count": 40,
   "metadata": {
    "ExecuteTime": {
     "end_time": "2019-05-19T16:33:36.817249Z",
     "start_time": "2019-05-19T16:33:36.812712Z"
    }
   },
   "outputs": [
    {
     "name": "stdout",
     "output_type": "stream",
     "text": [
      "TypeError: 'tuple' object does not support item assignment\n"
     ]
    }
   ],
   "source": [
    "    \n",
    "try:\n",
    "    tup[0] = 5\n",
    "except Exception as e:\n",
    "    error_class = e.__class__\n",
    "    print(f'{error_class.__name__}: {e}')"
   ]
  },
  {
   "cell_type": "markdown",
   "metadata": {},
   "source": [
    "#### Dictionaries\n",
    "A dictionary is an __unordered__, __indexed__, collection of __objects__"
   ]
  },
  {
   "cell_type": "code",
   "execution_count": 46,
   "metadata": {
    "ExecuteTime": {
     "end_time": "2019-05-19T16:36:35.730756Z",
     "start_time": "2019-05-19T16:36:35.725211Z"
    }
   },
   "outputs": [
    {
     "data": {
      "text/plain": [
       "{'English': ['en_US'],\n",
       " 'Japanese': ['ja'],\n",
       " 'Germany': ['de'],\n",
       " 'Chinese': ['zh_CN', 'zh_TW'],\n",
       " 'Spanish': ['es', 'ex_MX'],\n",
       " 'French': ['fr'],\n",
       " 'Italian': ['it'],\n",
       " 'Portuguese': ['pt', 'pt_BR'],\n",
       " 'Russian': ['ru'],\n",
       " 'Korean': ['ko']}"
      ]
     },
     "execution_count": 46,
     "metadata": {},
     "output_type": "execute_result"
    }
   ],
   "source": [
    "LANG_DICT = {'English': ['en_US'],\n",
    " 'Japanese': ['ja'],\n",
    " 'Germany': ['de'],\n",
    " 'Chinese': ['zh_CN', 'zh_TW'],\n",
    " 'Spanish': ['es', 'ex_MX'],\n",
    " 'French': ['fr'],\n",
    " 'Italian': ['it'],\n",
    " 'Portuguese': ['pt', 'pt_BR'],\n",
    " 'Russian': ['ru'],\n",
    " 'Korean': ['ko']}"
   ]
  },
  {
   "cell_type": "code",
   "execution_count": 47,
   "metadata": {
    "ExecuteTime": {
     "end_time": "2019-05-19T16:37:41.807354Z",
     "start_time": "2019-05-19T16:37:41.802894Z"
    }
   },
   "outputs": [
    {
     "data": {
      "text/plain": [
       "dict_keys(['English', 'Japanese', 'Germany', 'Chinese', 'Spanish', 'French', 'Italian', 'Portuguese', 'Russian', 'Korean'])"
      ]
     },
     "execution_count": 47,
     "metadata": {},
     "output_type": "execute_result"
    }
   ],
   "source": [
    "LANG_DICT.keys()"
   ]
  },
  {
   "cell_type": "code",
   "execution_count": 48,
   "metadata": {
    "ExecuteTime": {
     "end_time": "2019-05-19T16:37:55.556253Z",
     "start_time": "2019-05-19T16:37:55.551819Z"
    }
   },
   "outputs": [
    {
     "data": {
      "text/plain": [
       "dict_values([['en_US'], ['ja'], ['de'], ['zh_CN', 'zh_TW'], ['es', 'ex_MX'], ['fr'], ['it'], ['pt', 'pt_BR'], ['ru'], ['ko']])"
      ]
     },
     "execution_count": 48,
     "metadata": {},
     "output_type": "execute_result"
    }
   ],
   "source": [
    "LANG_DICT.values()"
   ]
  },
  {
   "cell_type": "code",
   "execution_count": 52,
   "metadata": {
    "ExecuteTime": {
     "end_time": "2019-05-19T16:38:47.556138Z",
     "start_time": "2019-05-19T16:38:47.551419Z"
    },
    "scrolled": true
   },
   "outputs": [
    {
     "name": "stdout",
     "output_type": "stream",
     "text": [
      "English ['en_US']\n",
      "Japanese ['ja']\n",
      "Germany ['de']\n",
      "Chinese ['zh_CN', 'zh_TW']\n",
      "Spanish ['es', 'ex_MX']\n",
      "French ['fr']\n",
      "Italian ['it']\n",
      "Portuguese ['pt', 'pt_BR']\n",
      "Russian ['ru']\n",
      "Korean ['ko']\n"
     ]
    }
   ],
   "source": [
    "for k,v in LANG_DICT.items():\n",
    "    print(k, v)"
   ]
  },
  {
   "cell_type": "code",
   "execution_count": 53,
   "metadata": {
    "ExecuteTime": {
     "end_time": "2019-05-19T16:39:09.315972Z",
     "start_time": "2019-05-19T16:39:09.310705Z"
    }
   },
   "outputs": [
    {
     "data": {
      "text/plain": [
       "['ko']"
      ]
     },
     "execution_count": 53,
     "metadata": {},
     "output_type": "execute_result"
    }
   ],
   "source": [
    "LANG_DICT[\"Korean\"]"
   ]
  },
  {
   "cell_type": "code",
   "execution_count": 54,
   "metadata": {
    "ExecuteTime": {
     "end_time": "2019-05-19T16:39:20.098964Z",
     "start_time": "2019-05-19T16:39:20.095470Z"
    }
   },
   "outputs": [],
   "source": [
    "dic = {'a': [1, 2, 3],\n",
    "       'b': [4, 5, 6]}"
   ]
  },
  {
   "cell_type": "code",
   "execution_count": 55,
   "metadata": {
    "ExecuteTime": {
     "end_time": "2019-05-19T16:39:20.825460Z",
     "start_time": "2019-05-19T16:39:20.820852Z"
    }
   },
   "outputs": [
    {
     "data": {
      "text/plain": [
       "['a', 'b']"
      ]
     },
     "execution_count": 55,
     "metadata": {},
     "output_type": "execute_result"
    }
   ],
   "source": [
    "list(dic.keys())"
   ]
  },
  {
   "cell_type": "code",
   "execution_count": 56,
   "metadata": {
    "ExecuteTime": {
     "end_time": "2019-05-19T16:39:23.497847Z",
     "start_time": "2019-05-19T16:39:23.493250Z"
    }
   },
   "outputs": [
    {
     "data": {
      "text/plain": [
       "[1, 2, 3]"
      ]
     },
     "execution_count": 56,
     "metadata": {},
     "output_type": "execute_result"
    }
   ],
   "source": [
    "dic['a']"
   ]
  },
  {
   "cell_type": "markdown",
   "metadata": {},
   "source": [
    "### Control Structures\n",
    "Now that we know what a variable/object is, we can talk about control structures. In simplest terms, control structures allow us to programmatically define a variable based on logic that we define. The most commonly used constrol strutures are `if` statements and `for` loops."
   ]
  },
  {
   "cell_type": "markdown",
   "metadata": {
    "ExecuteTime": {
     "end_time": "2019-02-11T00:40:07.495281Z",
     "start_time": "2019-02-11T00:40:07.481940Z"
    }
   },
   "source": [
    "__if statements__\n",
    "\n",
    "If statements are pretty self explanatory - you use them if you want to define a variable differently based on if certain parameters are met. In the below example, we write a simple script to print a different statement based on if certain criteria are met"
   ]
  },
  {
   "cell_type": "code",
   "execution_count": 57,
   "metadata": {
    "ExecuteTime": {
     "end_time": "2019-05-19T16:40:33.934019Z",
     "start_time": "2019-05-19T16:40:33.929463Z"
    }
   },
   "outputs": [
    {
     "name": "stdout",
     "output_type": "stream",
     "text": [
      "kinda expensive\n"
     ]
    }
   ],
   "source": [
    "price = 10\n",
    "\n",
    "if price < 10:\n",
    "    print(\"cheap\")\n",
    "elif price < 25:\n",
    "    print(\"kinda expensive\")\n",
    "else:\n",
    "    print(\"expensive\")"
   ]
  },
  {
   "cell_type": "markdown",
   "metadata": {},
   "source": [
    "__for loops__\n",
    "\n",
    "For loops allow you to iterate over a data structure to perform a task many times. This allows you to reduce the redundancy in your code. For loops are most commonly applied to lists or dictionaries.\n",
    "\n",
    "Take the below code block for example"
   ]
  },
  {
   "cell_type": "code",
   "execution_count": 9,
   "metadata": {
    "ExecuteTime": {
     "end_time": "2019-02-11T00:55:45.073219Z",
     "start_time": "2019-02-11T00:55:45.050503Z"
    }
   },
   "outputs": [
    {
     "name": "stdout",
     "output_type": "stream",
     "text": [
      "1\n",
      "2\n",
      "3\n",
      "4\n"
     ]
    }
   ],
   "source": [
    "print(1)\n",
    "print(2)\n",
    "print(3)\n",
    "print(4)"
   ]
  },
  {
   "cell_type": "markdown",
   "metadata": {},
   "source": [
    "This can be easily simplified using a for loop, and can also be extended to any number of variables"
   ]
  },
  {
   "cell_type": "code",
   "execution_count": 11,
   "metadata": {
    "ExecuteTime": {
     "end_time": "2019-02-11T00:56:07.716316Z",
     "start_time": "2019-02-11T00:56:07.702842Z"
    }
   },
   "outputs": [
    {
     "name": "stdout",
     "output_type": "stream",
     "text": [
      "1\n",
      "2\n",
      "3\n",
      "4\n"
     ]
    }
   ],
   "source": [
    "for n in range(1,5):\n",
    "    print(n)"
   ]
  },
  {
   "cell_type": "markdown",
   "metadata": {},
   "source": [
    "__We'll end this first lesson with this__"
   ]
  },
  {
   "cell_type": "code",
   "execution_count": 21,
   "metadata": {},
   "outputs": [
    {
     "name": "stdout",
     "output_type": "stream",
     "text": [
      "The Zen of Python, by Tim Peters\n",
      "\n",
      "Beautiful is better than ugly.\n",
      "Explicit is better than implicit.\n",
      "Simple is better than complex.\n",
      "Complex is better than complicated.\n",
      "Flat is better than nested.\n",
      "Sparse is better than dense.\n",
      "Readability counts.\n",
      "Special cases aren't special enough to break the rules.\n",
      "Although practicality beats purity.\n",
      "Errors should never pass silently.\n",
      "Unless explicitly silenced.\n",
      "In the face of ambiguity, refuse the temptation to guess.\n",
      "There should be one-- and preferably only one --obvious way to do it.\n",
      "Although that way may not be obvious at first unless you're Dutch.\n",
      "Now is better than never.\n",
      "Although never is often better than *right* now.\n",
      "If the implementation is hard to explain, it's a bad idea.\n",
      "If the implementation is easy to explain, it may be a good idea.\n",
      "Namespaces are one honking great idea -- let's do more of those!\n"
     ]
    }
   ],
   "source": [
    "import this"
   ]
  },
  {
   "cell_type": "markdown",
   "metadata": {},
   "source": [
    "Although a lot of these might not make sense right now, but these are a few rules that I always try to keep in mind when writing Python.\n",
    "\n",
    "Python is one of the most readable and syntatically simple languages, however as always, code always can get very ugly very fast. When writing code, simplicity is key - more lines of code is not always better, in fact longer code is often more cumbersome and more difficult to scale.\n",
    "\n",
    "In addition, Python is a very flexible language, with most objects being mutable. However it is important not to abuse this (more on this later)."
   ]
  }
 ],
 "metadata": {
  "kernelspec": {
   "display_name": "one_super_kernel",
   "language": "python",
   "name": "one_super_kernel"
  },
  "language_info": {
   "codemirror_mode": {
    "name": "ipython",
    "version": 3
   },
   "file_extension": ".py",
   "mimetype": "text/x-python",
   "name": "python",
   "nbconvert_exporter": "python",
   "pygments_lexer": "ipython3",
   "version": "3.6.10"
  },
  "toc": {
   "base_numbering": 1,
   "nav_menu": {},
   "number_sections": true,
   "sideBar": true,
   "skip_h1_title": false,
   "title_cell": "Table of Contents",
   "title_sidebar": "Contents",
   "toc_cell": false,
   "toc_position": {},
   "toc_section_display": true,
   "toc_window_display": false
  }
 },
 "nbformat": 4,
 "nbformat_minor": 2
}
