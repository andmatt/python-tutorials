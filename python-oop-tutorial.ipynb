{
 "cells": [
  {
   "cell_type": "markdown",
   "metadata": {},
   "source": [
    "## __Object Oriented Program in Python__\n",
    "\n",
    "author = ['mguan']"
   ]
  },
  {
   "cell_type": "markdown",
   "metadata": {},
   "source": [
    "__Beginner Concepts__"
   ]
  },
  {
   "cell_type": "markdown",
   "metadata": {},
   "source": [
    "### Functions 🏭\n",
    "* A function is essentially just a block of code that you want to do something\n",
    "* It takes one or more inputs, runs it's code on those inputs, and spits out an output\n",
    "* As a rule of thumb, for more complicated processes - an individual **function should only perform one task**."
   ]
  },
  {
   "cell_type": "code",
   "execution_count": 1,
   "metadata": {
    "ExecuteTime": {
     "end_time": "2018-08-16T13:45:32.578481Z",
     "start_time": "2018-08-16T13:45:32.573478Z"
    }
   },
   "outputs": [],
   "source": [
    "def my_cool_function(param):\n",
    "    print('say {0}'.format(param))"
   ]
  },
  {
   "cell_type": "code",
   "execution_count": 2,
   "metadata": {
    "ExecuteTime": {
     "end_time": "2018-08-16T13:45:33.150733Z",
     "start_time": "2018-08-16T13:45:33.147036Z"
    }
   },
   "outputs": [
    {
     "name": "stdout",
     "output_type": "stream",
     "text": [
      "say hi\n"
     ]
    }
   ],
   "source": [
    "my_cool_function('hi')"
   ]
  },
  {
   "cell_type": "markdown",
   "metadata": {},
   "source": [
    "### \\*args and \\**kwargs 😤\n",
    "Looking at other people's python code, you may have seen the syntax of passing in `*args` and `**kwargs` as arguments for a function of a bound method\n",
    "\n",
    "* arg is simply an iterable of positional arguments.\n",
    "    - You should use these if you are writing something that requires a level of abstraction (i.e a custom decorator). Other than that, I try not to use these\n",
    "* kwarg stands for keyword argument.\n",
    "     - By having `**kwargs` as an input, you are also instantianting `kwarg`, an object that is bound to the function. `kwarg` is a `dictionary` of `k:v` with `k` being the keyword argument, and `v` being the value assigned. As such, you can use dictionary methods such as `get()` and `keys()`"
   ]
  },
  {
   "cell_type": "code",
   "execution_count": 3,
   "metadata": {
    "ExecuteTime": {
     "end_time": "2018-08-16T13:45:35.489310Z",
     "start_time": "2018-08-16T13:45:35.485019Z"
    }
   },
   "outputs": [],
   "source": [
    "def my_cooler_function(*args, **kwargs):\n",
    "    kwarg = kwargs.get('param', 'not defined')\n",
    "    pos = 1\n",
    "    for arg in args:\n",
    "        print('arg{0} is {1}'.format(arg, pos))\n",
    "        pos += 1\n",
    "    print('kwarg is {0}'.format(kwarg))"
   ]
  },
  {
   "cell_type": "code",
   "execution_count": 4,
   "metadata": {
    "ExecuteTime": {
     "end_time": "2018-08-16T13:45:37.536762Z",
     "start_time": "2018-08-16T13:45:37.532795Z"
    }
   },
   "outputs": [
    {
     "name": "stdout",
     "output_type": "stream",
     "text": [
      "arg1 is 1\n",
      "arg2 is 2\n",
      "arg3 is 3\n",
      "kwarg is not defined\n"
     ]
    }
   ],
   "source": [
    "my_cooler_function(1, 2, 3)"
   ]
  },
  {
   "cell_type": "code",
   "execution_count": 5,
   "metadata": {
    "ExecuteTime": {
     "end_time": "2018-08-16T13:45:37.773113Z",
     "start_time": "2018-08-16T13:45:37.769198Z"
    }
   },
   "outputs": [
    {
     "name": "stdout",
     "output_type": "stream",
     "text": [
      "arg1 is 1\n",
      "arg2 is 2\n",
      "arg3 is 3\n",
      "kwarg is defined\n"
     ]
    }
   ],
   "source": [
    "my_cooler_function(1, 2, 3, param='defined')"
   ]
  },
  {
   "cell_type": "markdown",
   "metadata": {},
   "source": [
    "### Classes 👨‍🏫\n",
    "A class is essentially just a collection of functions. By initializing a class, you create an isolated environment that can run a set of related bound methods.\n",
    "\n",
    "The general format of a class is below.\n",
    "\n",
    "```\n",
    "class MyClass(object):\n",
    "    def __init__(self, **kwargs):\n",
    "        self.param = kwargs.get('param', None)\n",
    "        \n",
    "    def stuff(self):\n",
    "        print(self.param)\n",
    "```\n",
    "\n",
    "In this simple example - `MyClass` inherits from the base python object class (not super important right now). It starts out with the `__init__` method which is run as soon as the class is initialized, and binds an attribute `param` to `self` - the class instance. \n",
    "\n",
    "\n",
    "Lets go over some of these terms now..."
   ]
  },
  {
   "cell_type": "code",
   "execution_count": 6,
   "metadata": {
    "ExecuteTime": {
     "end_time": "2018-08-16T13:45:41.085456Z",
     "start_time": "2018-08-16T13:45:41.081044Z"
    }
   },
   "outputs": [],
   "source": [
    "class MyClass(object):\n",
    "    def __init__(self, **kwargs):\n",
    "        \"\"\"My awesome class that doesn't actually do anything\n",
    "        \n",
    "        Parameters\n",
    "        ----------\n",
    "        **kwargs\n",
    "            param: obj, varying\n",
    "            Anything honestly; set to None if undefined\n",
    "        \"\"\"\n",
    "        self.param = kwargs.get('param', None)\n",
    "    def stuff(self):\n",
    "        \"\"\"Returns self.parm\"\"\"\n",
    "        print(self.param)"
   ]
  },
  {
   "cell_type": "markdown",
   "metadata": {},
   "source": [
    "Here we are initializing a class `instance` by passing parameters into the class"
   ]
  },
  {
   "cell_type": "code",
   "execution_count": 7,
   "metadata": {
    "ExecuteTime": {
     "end_time": "2018-08-16T13:45:41.487231Z",
     "start_time": "2018-08-16T13:45:41.472034Z"
    }
   },
   "outputs": [
    {
     "data": {
      "text/plain": [
       "__main__.MyClass"
      ]
     },
     "execution_count": 7,
     "metadata": {},
     "output_type": "execute_result"
    }
   ],
   "source": [
    "instance = MyClass(param='blah')\n",
    "type(instance)"
   ]
  },
  {
   "cell_type": "markdown",
   "metadata": {},
   "source": [
    "Here we are running a method that is bound to an instance. When you are actually making a classes, it is likely that there will be many of these methods that interact with each other in various ways"
   ]
  },
  {
   "cell_type": "code",
   "execution_count": 48,
   "metadata": {
    "ExecuteTime": {
     "end_time": "2018-08-16T14:02:36.836659Z",
     "start_time": "2018-08-16T14:02:36.831894Z"
    }
   },
   "outputs": [
    {
     "data": {
      "text/plain": [
       "'hey you'"
      ]
     },
     "execution_count": 48,
     "metadata": {},
     "output_type": "execute_result"
    }
   ],
   "source": [
    "instance.stuff()"
   ]
  },
  {
   "cell_type": "markdown",
   "metadata": {},
   "source": [
    "Note that there is some text bound in multilined strings within the class. These are called docstrings.  \n",
    "\n",
    "<div class=\"alert-danger\">\n",
    "**Please use docstrings if you are building out a python package or else no one will know what you were doing!**   \n",
    "    \n",
    "Please ignore the fact that I skipped docstrings for a lot of stuff throughout this module :)\n",
    "</div> "
   ]
  },
  {
   "cell_type": "code",
   "execution_count": 9,
   "metadata": {
    "ExecuteTime": {
     "end_time": "2018-08-16T13:46:33.491992Z",
     "start_time": "2018-08-16T13:46:33.487160Z"
    }
   },
   "outputs": [
    {
     "name": "stdout",
     "output_type": "stream",
     "text": [
      "Help on class MyClass in module __main__:\n",
      "\n",
      "class MyClass(builtins.object)\n",
      " |  Methods defined here:\n",
      " |  \n",
      " |  __init__(self, **kwargs)\n",
      " |      My awesome class that doesn't actually do anything\n",
      " |      \n",
      " |      Parameters\n",
      " |      ----------\n",
      " |      **kwargs\n",
      " |          param: obj, varying\n",
      " |          Anything honestly; set to None if undefined\n",
      " |  \n",
      " |  stuff(self)\n",
      " |      Returns self.parm\n",
      " |  \n",
      " |  ----------------------------------------------------------------------\n",
      " |  Data descriptors defined here:\n",
      " |  \n",
      " |  __dict__\n",
      " |      dictionary for instance variables (if defined)\n",
      " |  \n",
      " |  __weakref__\n",
      " |      list of weak references to the object (if defined)\n",
      "\n"
     ]
    }
   ],
   "source": [
    "help(MyClass)"
   ]
  },
  {
   "cell_type": "markdown",
   "metadata": {},
   "source": [
    "__Intermediate/Advanced Concepts__"
   ]
  },
  {
   "cell_type": "markdown",
   "metadata": {},
   "source": [
    "### Built In Decorators ✨\n",
    "\n",
    "One feature of python is that it has some built in `decorator` functions that can extend the functionality of a bound method within a class. A few common decorators that I like using are listed below.\n",
    "\n",
    "* `@staticmethod`: A static method makes it so that a function within a class does not depend on the class instance at all\n",
    "* `@classmethod`: A class method makes it so that a function within a class depends on only the class, but not the class instance\n",
    "* `@property`: A property essentially create an immutable class attribute that can be modified only by other defined setter, getter, and deleter functions\n",
    "\n",
    "examples of each are below"
   ]
  },
  {
   "cell_type": "code",
   "execution_count": 10,
   "metadata": {
    "ExecuteTime": {
     "end_time": "2018-08-16T13:46:37.575475Z",
     "start_time": "2018-08-16T13:46:37.566707Z"
    }
   },
   "outputs": [],
   "source": [
    "class Decorations(object):\n",
    "    def __init__(self, var1=1, var2=2):\n",
    "        \"\"\"A guide on properties\n",
    "        \n",
    "        Parameters\n",
    "        ----------\n",
    "        var1: int\n",
    "        var2: int\n",
    "        \"\"\"\n",
    "        self.var1 = var1\n",
    "        self.var2 = var2\n",
    "        \n",
    "    def calculate_var(self):\n",
    "        self._var = self.var1 + self.var2\n",
    "    \n",
    "    @classmethod\n",
    "    def create_class(cls, var1, var2):\n",
    "        instance = cls(var1, var2)\n",
    "        return instance\n",
    "    \n",
    "    @staticmethod\n",
    "    def add_stuff(var1, var2):\n",
    "        for var in [var1, var2]:\n",
    "            assert isinstance(var, int)\n",
    "            return var1 + var2\n",
    "        \n",
    "    @property\n",
    "    def stuff(self):\n",
    "        \"\"\"Returns self.parm\"\"\"\n",
    "        print('calling getter method')\n",
    "        if not hasattr(self, '_var'):\n",
    "            self.calculate_var()\n",
    "        return self._var\n",
    "    \n",
    "    @stuff.setter\n",
    "    def stuff(self, value):\n",
    "        print('calling setter method')\n",
    "        self._var = value\n",
    "    \n",
    "    @stuff.deleter\n",
    "    def stuff(self):\n",
    "        print('calling deleter method')\n",
    "        del self._var       "
   ]
  },
  {
   "cell_type": "markdown",
   "metadata": {},
   "source": [
    "__1. Example of using a static method__"
   ]
  },
  {
   "cell_type": "code",
   "execution_count": 11,
   "metadata": {
    "ExecuteTime": {
     "end_time": "2018-08-16T13:46:39.269508Z",
     "start_time": "2018-08-16T13:46:39.264881Z"
    }
   },
   "outputs": [
    {
     "data": {
      "text/plain": [
       "3"
      ]
     },
     "execution_count": 11,
     "metadata": {},
     "output_type": "execute_result"
    }
   ],
   "source": [
    "Decorations.add_stuff(1, 2)"
   ]
  },
  {
   "cell_type": "markdown",
   "metadata": {},
   "source": [
    "__2. Example of using a class method as a class factory__"
   ]
  },
  {
   "cell_type": "code",
   "execution_count": 12,
   "metadata": {
    "ExecuteTime": {
     "end_time": "2018-08-16T13:46:41.084041Z",
     "start_time": "2018-08-16T13:46:41.080747Z"
    }
   },
   "outputs": [],
   "source": [
    "instance = Decorations.create_class(3, 4)"
   ]
  },
  {
   "cell_type": "code",
   "execution_count": 13,
   "metadata": {
    "ExecuteTime": {
     "end_time": "2018-08-16T13:46:41.384168Z",
     "start_time": "2018-08-16T13:46:41.380593Z"
    }
   },
   "outputs": [
    {
     "name": "stdout",
     "output_type": "stream",
     "text": [
      "3 4\n"
     ]
    }
   ],
   "source": [
    "print(instance.var1, instance.var2)"
   ]
  },
  {
   "cell_type": "markdown",
   "metadata": {},
   "source": [
    "__3. Example of using a property__"
   ]
  },
  {
   "cell_type": "code",
   "execution_count": 14,
   "metadata": {
    "ExecuteTime": {
     "end_time": "2018-08-16T13:46:43.107679Z",
     "start_time": "2018-08-16T13:46:43.102498Z"
    }
   },
   "outputs": [
    {
     "name": "stdout",
     "output_type": "stream",
     "text": [
      "calling getter method\n"
     ]
    },
    {
     "data": {
      "text/plain": [
       "7"
      ]
     },
     "execution_count": 14,
     "metadata": {},
     "output_type": "execute_result"
    }
   ],
   "source": [
    "instance.stuff"
   ]
  },
  {
   "cell_type": "code",
   "execution_count": 15,
   "metadata": {
    "ExecuteTime": {
     "end_time": "2018-08-16T13:46:43.435672Z",
     "start_time": "2018-08-16T13:46:43.430363Z"
    }
   },
   "outputs": [
    {
     "name": "stdout",
     "output_type": "stream",
     "text": [
      "calling setter method\n"
     ]
    },
    {
     "data": {
      "text/plain": [
       "10"
      ]
     },
     "execution_count": 15,
     "metadata": {},
     "output_type": "execute_result"
    }
   ],
   "source": [
    "instance.stuff = 10\n",
    "getattr(instance, '_var')"
   ]
  },
  {
   "cell_type": "code",
   "execution_count": 16,
   "metadata": {
    "ExecuteTime": {
     "end_time": "2018-08-16T13:46:44.224229Z",
     "start_time": "2018-08-16T13:46:44.219039Z"
    }
   },
   "outputs": [
    {
     "name": "stdout",
     "output_type": "stream",
     "text": [
      "calling deleter method\n"
     ]
    },
    {
     "data": {
      "text/plain": [
       "False"
      ]
     },
     "execution_count": 16,
     "metadata": {},
     "output_type": "execute_result"
    }
   ],
   "source": [
    "del instance.stuff\n",
    "hasattr(instance, '_var')"
   ]
  },
  {
   "cell_type": "markdown",
   "metadata": {},
   "source": [
    "### Class Inheritance 👥\n",
    "We can use inheritance to further seperate out class functionality and isolate useful classes that can be reused. Every class you make can inherit all attribute from another class (or multiple classes) rather than the base python `object` that were were using earlier.\n",
    "\n",
    "First a few terms that I use interchangeably...\n",
    "* `parent class` = `base class`\n",
    "* `child class` = `sub class`\n",
    "\n",
    "A child class inherits from a parent class\n",
    "\n",
    "Below is a basic example of inheritance"
   ]
  },
  {
   "cell_type": "code",
   "execution_count": 17,
   "metadata": {
    "ExecuteTime": {
     "end_time": "2018-08-16T13:46:47.604706Z",
     "start_time": "2018-08-16T13:46:47.599475Z"
    }
   },
   "outputs": [],
   "source": [
    "class BaseClass(object):\n",
    "    def __init__(self, **kwargs):\n",
    "        \"\"\"My awesome class that doesn't actually do anything\n",
    "        \n",
    "        Parameters\n",
    "        ----------\n",
    "        **kwargs\n",
    "            param: obj, varying\n",
    "            Anything honestly; set to None if undefined\n",
    "        \"\"\"\n",
    "        self.param = kwargs.get('param', None)\n",
    "        \n",
    "\n",
    "class MyClass(BaseClass):\n",
    "    def __init__(self, **kwargs):\n",
    "        BaseClass.__init__(self, **kwargs)"
   ]
  },
  {
   "cell_type": "markdown",
   "metadata": {
    "ExecuteTime": {
     "end_time": "2018-08-16T00:08:16.030665Z",
     "start_time": "2018-08-16T00:08:16.026189Z"
    }
   },
   "source": [
    "As you can see, by using `__init__` on the Base Class in the `__init__` of my Sub Class, I have added `param` as an attribute"
   ]
  },
  {
   "cell_type": "code",
   "execution_count": 18,
   "metadata": {
    "ExecuteTime": {
     "end_time": "2018-08-16T13:46:49.332933Z",
     "start_time": "2018-08-16T13:46:49.327898Z"
    }
   },
   "outputs": [
    {
     "data": {
      "text/plain": [
       "'hi'"
      ]
     },
     "execution_count": 18,
     "metadata": {},
     "output_type": "execute_result"
    }
   ],
   "source": [
    "instance = MyClass(param='hi')\n",
    "getattr(instance, 'param')"
   ]
  },
  {
   "cell_type": "markdown",
   "metadata": {},
   "source": [
    "### `super()` and Multiple Inheritance  👪"
   ]
  },
  {
   "cell_type": "markdown",
   "metadata": {
    "ExecuteTime": {
     "end_time": "2018-08-15T20:13:45.187282Z",
     "start_time": "2018-08-15T20:13:45.182328Z"
    }
   },
   "source": [
    "Turns out, you can also inherit 2 or more classes at once. This can be done using multiple lines of `__init__` or with `super()`\n",
    "\n",
    "The main advantage of super is that it allows you to generalize inheritance, and do not need to hardcode class names into the `__init__`. This can be good for complicated inheritance schemes, but I personally find it not that useful in practice.\n",
    "\n",
    "Honestly though, it is more likely that whatever you are doing does not really require this level of abstraction, so you would be probably better off just `__init__`ing each child class seperately. We'll go over it anyways though."
   ]
  },
  {
   "cell_type": "code",
   "execution_count": 20,
   "metadata": {
    "ExecuteTime": {
     "end_time": "2018-08-16T13:47:54.865269Z",
     "start_time": "2018-08-16T13:47:54.858273Z"
    },
    "code_folding": []
   },
   "outputs": [],
   "source": [
    "class BaseClass(object):\n",
    "    def __init__(self, **kwargs):\n",
    "        \"\"\"My awesome class that doesn't actually do anything\n",
    "        \n",
    "        Parameters\n",
    "        ----------\n",
    "        **kwargs\n",
    "            var: obj, varying\n",
    "            Anything honestly; set to None if undefined\n",
    "        \"\"\"\n",
    "        super().__init__(**kwargs)\n",
    "        print('AnotherBaseClass __init__')\n",
    "        self.var = kwargs.get('var', None)\n",
    "        self.param = 'HI'\n",
    "\n",
    "class AnotherBaseClass(object):\n",
    "    def __init__(self, **kwargs):\n",
    "        \"\"\"My awesome class that doesn't actually do anything\n",
    "        \n",
    "        Parameters\n",
    "        ----------\n",
    "        **kwargs\n",
    "            param: obj, varying\n",
    "            Anything honestly; set to None if undefined\n",
    "        \"\"\"\n",
    "        print('BaseClass __init__')\n",
    "        self.param = kwargs.get('param', None)\n",
    "        \n",
    "class SuperClass(BaseClass, AnotherBaseClass):\n",
    "    def __init__(self, **kwargs):\n",
    "        super().__init__(**kwargs)"
   ]
  },
  {
   "cell_type": "markdown",
   "metadata": {},
   "source": [
    "Note the `SuperClass` method resolution order."
   ]
  },
  {
   "cell_type": "code",
   "execution_count": 21,
   "metadata": {
    "ExecuteTime": {
     "end_time": "2018-08-16T13:47:57.237614Z",
     "start_time": "2018-08-16T13:47:57.233067Z"
    }
   },
   "outputs": [
    {
     "data": {
      "text/plain": [
       "(__main__.SuperClass, __main__.BaseClass, __main__.AnotherBaseClass, object)"
      ]
     },
     "execution_count": 21,
     "metadata": {},
     "output_type": "execute_result"
    }
   ],
   "source": [
    "SuperClass.__mro__"
   ]
  },
  {
   "cell_type": "markdown",
   "metadata": {},
   "source": [
    "This is important because the first class in the `mro` hierarchy needs to be a `mixin` class with it's own `super()` in the `__init__` for this to work.\n",
    "\n",
    "For example... This won't properly `__init__` both subclasses"
   ]
  },
  {
   "cell_type": "code",
   "execution_count": 22,
   "metadata": {
    "ExecuteTime": {
     "end_time": "2018-08-16T13:48:00.131031Z",
     "start_time": "2018-08-16T13:48:00.127290Z"
    }
   },
   "outputs": [],
   "source": [
    "class NotSuperClass(AnotherBaseClass, BaseClass):\n",
    "    def __init__(self, **kwargs):\n",
    "        super().__init__(**kwargs)"
   ]
  },
  {
   "cell_type": "code",
   "execution_count": 23,
   "metadata": {
    "ExecuteTime": {
     "end_time": "2018-08-16T13:48:00.926906Z",
     "start_time": "2018-08-16T13:48:00.922203Z"
    }
   },
   "outputs": [
    {
     "data": {
      "text/plain": [
       "(__main__.NotSuperClass, __main__.AnotherBaseClass, __main__.BaseClass, object)"
      ]
     },
     "execution_count": 23,
     "metadata": {},
     "output_type": "execute_result"
    }
   ],
   "source": [
    "NotSuperClass.__mro__"
   ]
  },
  {
   "cell_type": "code",
   "execution_count": 24,
   "metadata": {
    "ExecuteTime": {
     "end_time": "2018-08-16T13:48:01.389271Z",
     "start_time": "2018-08-16T13:48:01.385812Z"
    }
   },
   "outputs": [
    {
     "name": "stdout",
     "output_type": "stream",
     "text": [
      "BaseClass __init__\n"
     ]
    }
   ],
   "source": [
    "bad = NotSuperClass()"
   ]
  },
  {
   "cell_type": "markdown",
   "metadata": {},
   "source": [
    "In addition, variables for classes higher up in the `mro` hierachy will take precedent.\n",
    "\n",
    "In this example `param` from `BaseClass` overrides the `AnotherBaseClass` param that was defined via kwarg"
   ]
  },
  {
   "cell_type": "code",
   "execution_count": 25,
   "metadata": {
    "ExecuteTime": {
     "end_time": "2018-08-16T13:48:03.356905Z",
     "start_time": "2018-08-16T13:48:03.353217Z"
    }
   },
   "outputs": [
    {
     "name": "stdout",
     "output_type": "stream",
     "text": [
      "BaseClass __init__\n",
      "AnotherBaseClass __init__\n"
     ]
    }
   ],
   "source": [
    "instance = SuperClass(param='hi', var='bye')"
   ]
  },
  {
   "cell_type": "code",
   "execution_count": 26,
   "metadata": {
    "ExecuteTime": {
     "end_time": "2018-08-16T13:48:03.708846Z",
     "start_time": "2018-08-16T13:48:03.704144Z"
    }
   },
   "outputs": [
    {
     "data": {
      "text/plain": [
       "'HI'"
      ]
     },
     "execution_count": 26,
     "metadata": {},
     "output_type": "execute_result"
    }
   ],
   "source": [
    "getattr(instance, 'param')"
   ]
  },
  {
   "cell_type": "code",
   "execution_count": 27,
   "metadata": {
    "ExecuteTime": {
     "end_time": "2018-08-16T13:48:04.138814Z",
     "start_time": "2018-08-16T13:48:04.134419Z"
    }
   },
   "outputs": [
    {
     "data": {
      "text/plain": [
       "'bye'"
      ]
     },
     "execution_count": 27,
     "metadata": {},
     "output_type": "execute_result"
    }
   ],
   "source": [
    "getattr(instance, 'var')"
   ]
  },
  {
   "cell_type": "markdown",
   "metadata": {
    "ExecuteTime": {
     "end_time": "2018-08-16T00:02:13.498077Z",
     "start_time": "2018-08-16T00:02:13.493824Z"
    }
   },
   "source": [
    "`super()` can also be used to extend/overwrite a method from a child object. This is a little more useful IMO. You can use this to inherit methods from something that someone else wrote, and make them more suited to what you are actually trying to do without going in and modifying the base class. \n",
    "\n",
    "Here's a bad example, that will hopefully give you an idea of what I mean"
   ]
  },
  {
   "cell_type": "code",
   "execution_count": 28,
   "metadata": {
    "ExecuteTime": {
     "end_time": "2018-08-16T13:48:06.278603Z",
     "start_time": "2018-08-16T13:48:05.894307Z"
    }
   },
   "outputs": [],
   "source": [
    "from pandas import DataFrame\n",
    "\n",
    "class BetterDf(DataFrame):\n",
    "    @property\n",
    "    def _constructor(self):\n",
    "        return DfStuff\n",
    "    \n",
    "    def iterrows(self):\n",
    "        print('this is way better')\n",
    "        result = super().iterrows()\n",
    "        return result"
   ]
  },
  {
   "cell_type": "code",
   "execution_count": 29,
   "metadata": {
    "ExecuteTime": {
     "end_time": "2018-08-16T13:48:08.125165Z",
     "start_time": "2018-08-16T13:48:08.122060Z"
    }
   },
   "outputs": [],
   "source": [
    "df_dict = {'var':[1,2,3], 'val':['a', 'b', 'c']}"
   ]
  },
  {
   "cell_type": "code",
   "execution_count": 30,
   "metadata": {
    "ExecuteTime": {
     "end_time": "2018-08-16T13:48:08.598833Z",
     "start_time": "2018-08-16T13:48:08.594527Z"
    }
   },
   "outputs": [],
   "source": [
    "df = BetterDf(df_dict)"
   ]
  },
  {
   "cell_type": "code",
   "execution_count": 31,
   "metadata": {
    "ExecuteTime": {
     "end_time": "2018-08-16T13:48:08.994770Z",
     "start_time": "2018-08-16T13:48:08.989482Z"
    }
   },
   "outputs": [
    {
     "name": "stdout",
     "output_type": "stream",
     "text": [
      "this is way better\n"
     ]
    },
    {
     "data": {
      "text/plain": [
       "<generator object DataFrame.iterrows at 0x7f4c2c018f10>"
      ]
     },
     "execution_count": 31,
     "metadata": {},
     "output_type": "execute_result"
    }
   ],
   "source": [
    "df.iterrows()"
   ]
  },
  {
   "cell_type": "markdown",
   "metadata": {},
   "source": [
    "### Abstract Base Classes 💀\n",
    "Abstract base classes in python are pretty neat. They can be inherited without being initialized and can serve as a class template by\n",
    "\n",
    "1. Enforcing the implementation of certain methods for a set of classes (You don't even need to inherit an abstract class for this if you add a  <a href=\"https://stackoverflow.com/questions/3570796/why-use-abstract-base-classes-in-python\" target=\"_blank\">`__subclasshook__`</a>). This also extends the concept of duck typing in python\n",
    "    \n",
    "2. Adding some concrete methods to every class that inherits it. You can either just skip the `@abstractmethod` decorator or `super()` an abstract method"
   ]
  },
  {
   "cell_type": "markdown",
   "metadata": {},
   "source": [
    "Lets create a simple ABC. First, we'll import the `ABC` base class, along with the abstractmethod decorator"
   ]
  },
  {
   "cell_type": "code",
   "execution_count": 32,
   "metadata": {
    "ExecuteTime": {
     "end_time": "2018-08-16T13:48:13.005380Z",
     "start_time": "2018-08-16T13:48:13.002523Z"
    }
   },
   "outputs": [],
   "source": [
    "from abc import ABC, abstractmethod"
   ]
  },
  {
   "cell_type": "markdown",
   "metadata": {
    "ExecuteTime": {
     "end_time": "2018-08-16T01:41:41.142702Z",
     "start_time": "2018-08-16T01:41:41.137438Z"
    }
   },
   "source": [
    "Below we've defined an ABC with two methods...\n",
    "* `run`: an abstract method that will be used soley to enforce the implementation of a `run` bound method in all subclasses of `myABC`\n",
    "* `kwarg_check`: a concete method that will be bound to all subclasses of `myABC`"
   ]
  },
  {
   "cell_type": "code",
   "execution_count": 33,
   "metadata": {
    "ExecuteTime": {
     "end_time": "2018-08-16T13:48:15.089943Z",
     "start_time": "2018-08-16T13:48:15.085577Z"
    }
   },
   "outputs": [],
   "source": [
    "class myABC(ABC):\n",
    "    @abstractmethod\n",
    "    def run(self):\n",
    "        pass\n",
    "    def kwarg_check(self):\n",
    "        if hasattr(self, 'param'):\n",
    "            print('yee')\n",
    "        else:\n",
    "            print('noo')"
   ]
  },
  {
   "cell_type": "markdown",
   "metadata": {},
   "source": [
    "First we'll go over a `Bad Implementation` subclassing `myABC`\n",
    "* There is no `run` method in sub class so we get a `TypeError`"
   ]
  },
  {
   "cell_type": "code",
   "execution_count": 34,
   "metadata": {
    "ExecuteTime": {
     "end_time": "2018-08-16T13:48:16.883941Z",
     "start_time": "2018-08-16T13:48:16.880015Z"
    }
   },
   "outputs": [],
   "source": [
    "class BadImplementation(myABC):\n",
    "    def __init__(self, **kwargs):\n",
    "        self.param = kwargs.get('param', None)\n",
    "    def stuff(self):\n",
    "        print(self.param)"
   ]
  },
  {
   "cell_type": "code",
   "execution_count": 35,
   "metadata": {
    "ExecuteTime": {
     "end_time": "2018-08-16T13:48:17.418014Z",
     "start_time": "2018-08-16T13:48:17.285643Z"
    }
   },
   "outputs": [
    {
     "ename": "TypeError",
     "evalue": "Can't instantiate abstract class BadImplementation with abstract methods run",
     "output_type": "error",
     "traceback": [
      "\u001b[0;31m---------------------------------------------------------------------------\u001b[0m",
      "\u001b[0;31mTypeError\u001b[0m                                 Traceback (most recent call last)",
      "\u001b[0;32m<ipython-input-35-770cff7455e8>\u001b[0m in \u001b[0;36m<module>\u001b[0;34m()\u001b[0m\n\u001b[0;32m----> 1\u001b[0;31m \u001b[0mBadImplementation\u001b[0m\u001b[0;34m(\u001b[0m\u001b[0;34m)\u001b[0m\u001b[0;34m\u001b[0m\u001b[0m\n\u001b[0m",
      "\u001b[0;31mTypeError\u001b[0m: Can't instantiate abstract class BadImplementation with abstract methods run"
     ]
    }
   ],
   "source": [
    "BadImplementation()"
   ]
  },
  {
   "cell_type": "markdown",
   "metadata": {},
   "source": [
    "Now for one that actually works\n",
    "* In this example, we are able to instantiate the Runner class because it has the appropriate methods\n",
    "* In addition, the class automatically gets the `kwarg_check` bound method from the ABC"
   ]
  },
  {
   "cell_type": "code",
   "execution_count": 36,
   "metadata": {
    "ExecuteTime": {
     "end_time": "2018-08-16T13:48:19.263915Z",
     "start_time": "2018-08-16T13:48:19.259659Z"
    }
   },
   "outputs": [],
   "source": [
    "class Runner(myABC):\n",
    "    def __init__(self, **kwargs):\n",
    "        self.param = kwargs.get('param', None)\n",
    "    def stuff(self):\n",
    "        print(self.param)\n",
    "    def run(self):\n",
    "        self.stuff()"
   ]
  },
  {
   "cell_type": "code",
   "execution_count": 37,
   "metadata": {
    "ExecuteTime": {
     "end_time": "2018-08-16T13:48:20.851815Z",
     "start_time": "2018-08-16T13:48:20.848505Z"
    }
   },
   "outputs": [],
   "source": [
    "instance = Runner(param='hi')"
   ]
  },
  {
   "cell_type": "code",
   "execution_count": 38,
   "metadata": {
    "ExecuteTime": {
     "end_time": "2018-08-16T13:48:21.210898Z",
     "start_time": "2018-08-16T13:48:21.207375Z"
    }
   },
   "outputs": [
    {
     "name": "stdout",
     "output_type": "stream",
     "text": [
      "yee\n"
     ]
    }
   ],
   "source": [
    "instance.kwarg_check()"
   ]
  },
  {
   "cell_type": "code",
   "execution_count": 39,
   "metadata": {
    "ExecuteTime": {
     "end_time": "2018-08-16T13:48:21.840964Z",
     "start_time": "2018-08-16T13:48:21.837477Z"
    }
   },
   "outputs": [
    {
     "name": "stdout",
     "output_type": "stream",
     "text": [
      "hi\n"
     ]
    }
   ],
   "source": [
    "instance.run()"
   ]
  },
  {
   "cell_type": "markdown",
   "metadata": {},
   "source": [
    "I really like using abstract base classes, because they are a super easy way to create a re-useable, and somewhat rigid template for other classes. Like all good things though, best not to overuse them"
   ]
  },
  {
   "cell_type": "markdown",
   "metadata": {},
   "source": [
    "### Custom Decorators 🌟\n",
    "Another useful thing you can do is create your own class decorators to easily extend some functionality to many different methods. An example use case for this would be creating a decorator with some built in data type validation.\n",
    "\n",
    "Lets take a look at the decorator syntax below"
   ]
  },
  {
   "cell_type": "code",
   "execution_count": 40,
   "metadata": {
    "ExecuteTime": {
     "end_time": "2018-08-16T13:48:27.838115Z",
     "start_time": "2018-08-16T13:48:27.834409Z"
    }
   },
   "outputs": [],
   "source": [
    "def makestr(func):\n",
    "    def wrapper(*args, **kwargs):\n",
    "        output = func(*args, **kwargs)\n",
    "        return str(output)\n",
    "    return wrapper"
   ]
  },
  {
   "cell_type": "markdown",
   "metadata": {},
   "source": [
    "A decorator is essentially a function that takes another function as an input. It outputs a wrapper function for that input function. Using the `@decorator` syntax before a function wraps the original function with the decorator's wrapper function. Confused yet?"
   ]
  },
  {
   "cell_type": "code",
   "execution_count": 41,
   "metadata": {
    "ExecuteTime": {
     "end_time": "2018-08-16T13:48:30.380581Z",
     "start_time": "2018-08-16T13:48:30.377309Z"
    }
   },
   "outputs": [],
   "source": [
    "@makestr\n",
    "def addition(x, y):\n",
    "    return x+y"
   ]
  },
  {
   "cell_type": "code",
   "execution_count": 42,
   "metadata": {
    "ExecuteTime": {
     "end_time": "2018-08-16T13:48:31.206168Z",
     "start_time": "2018-08-16T13:48:31.201697Z"
    }
   },
   "outputs": [
    {
     "data": {
      "text/plain": [
       "'3'"
      ]
     },
     "execution_count": 42,
     "metadata": {},
     "output_type": "execute_result"
    }
   ],
   "source": [
    "addition(1, 2)"
   ]
  },
  {
   "cell_type": "markdown",
   "metadata": {},
   "source": [
    "As you can see, when I used `@makestr` to wrap my addition function, it outputs a `str` instead of an `int`"
   ]
  },
  {
   "cell_type": "markdown",
   "metadata": {},
   "source": [
    "<div class=\"alert-info\">\n",
    "**Note**: If you use multiple decorators - they will be run from bottom up, so order can matter. For example, with abstract meta classes, your `@abstractmethod` decorator should always be on the bottom\n",
    "</div>"
   ]
  },
  {
   "cell_type": "markdown",
   "metadata": {},
   "source": [
    "A few additional notes that are good to know...\n",
    "\n",
    "__1. You can make a decorator that acceses the class instance__"
   ]
  },
  {
   "cell_type": "code",
   "execution_count": 43,
   "metadata": {
    "ExecuteTime": {
     "end_time": "2018-08-16T13:48:34.953731Z",
     "start_time": "2018-08-16T13:48:34.948485Z"
    }
   },
   "outputs": [],
   "source": [
    "def add_text(func):\n",
    "    def wrapper(self, *args, **kwargs):\n",
    "        output = func(self, *args, **kwargs)\n",
    "        assert isinstance(output, str)\n",
    "        return 'hey ' + output\n",
    "    return wrapper\n",
    "\n",
    "class MyClass(object):\n",
    "    def __init__(self, **kwargs):\n",
    "        self.param = kwargs.get('param', None)\n",
    "    @add_text\n",
    "    def stuff(self):\n",
    "        \"\"\"Returns self.parm\"\"\"\n",
    "        return self.param"
   ]
  },
  {
   "cell_type": "code",
   "execution_count": 44,
   "metadata": {
    "ExecuteTime": {
     "end_time": "2018-08-16T13:48:36.843736Z",
     "start_time": "2018-08-16T13:48:36.838994Z"
    }
   },
   "outputs": [
    {
     "data": {
      "text/plain": [
       "'hey you'"
      ]
     },
     "execution_count": 44,
     "metadata": {},
     "output_type": "execute_result"
    }
   ],
   "source": [
    "instance = MyClass(param='you')\n",
    "instance.stuff()"
   ]
  },
  {
   "cell_type": "markdown",
   "metadata": {},
   "source": [
    "__2. You can have parameterized decorators that contain a dynamic wrapper function__\n",
    "* This is a little more complicated - You basically need two levels of wrapper functions so that we can pass our user input into the first level "
   ]
  },
  {
   "cell_type": "code",
   "execution_count": 45,
   "metadata": {
    "ExecuteTime": {
     "end_time": "2018-08-16T13:48:38.711517Z",
     "start_time": "2018-08-16T13:48:38.706575Z"
    }
   },
   "outputs": [],
   "source": [
    "def settype(**kwargs):\n",
    "    dtype = kwargs.get('dtype', str)\n",
    "    def func_wrapper(func):\n",
    "        pass\n",
    "    \n",
    "        def wrapper(*args, **kwargs):\n",
    "            output = func(*args, **kwargs)\n",
    "            return dtype(output)\n",
    "        return wrapper\n",
    "    \n",
    "    return func_wrapper\n",
    "\n",
    "@settype(dtype=float)\n",
    "def addition(x, y):\n",
    "    return x+y"
   ]
  },
  {
   "cell_type": "code",
   "execution_count": 46,
   "metadata": {
    "ExecuteTime": {
     "end_time": "2018-08-16T13:48:39.030482Z",
     "start_time": "2018-08-16T13:48:39.026000Z"
    }
   },
   "outputs": [
    {
     "data": {
      "text/plain": [
       "3.0"
      ]
     },
     "execution_count": 46,
     "metadata": {},
     "output_type": "execute_result"
    }
   ],
   "source": [
    "addition(1, 2)"
   ]
  },
  {
   "cell_type": "markdown",
   "metadata": {},
   "source": [
    " "
   ]
  }
 ],
 "metadata": {
  "kernelspec": {
   "display_name": "Python 3",
   "language": "python",
   "name": "python3"
  },
  "language_info": {
   "codemirror_mode": {
    "name": "ipython",
    "version": 3
   },
   "file_extension": ".py",
   "mimetype": "text/x-python",
   "name": "python",
   "nbconvert_exporter": "python",
   "pygments_lexer": "ipython3",
   "version": "3.7.1"
  },
  "toc": {
   "base_numbering": 1,
   "nav_menu": {},
   "number_sections": true,
   "sideBar": true,
   "skip_h1_title": false,
   "title_cell": "Table of Contents",
   "title_sidebar": "Contents",
   "toc_cell": false,
   "toc_position": {},
   "toc_section_display": true,
   "toc_window_display": false
  }
 },
 "nbformat": 4,
 "nbformat_minor": 2
}
